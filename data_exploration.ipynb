{
 "cells": [
  {
   "cell_type": "code",
   "execution_count": 1,
   "id": "initial_id",
   "metadata": {
    "collapsed": true,
    "ExecuteTime": {
     "end_time": "2024-04-08T08:14:49.142044Z",
     "start_time": "2024-04-08T08:14:48.722229Z"
    }
   },
   "outputs": [],
   "source": [
    "import pandas as pd"
   ]
  },
  {
   "cell_type": "code",
   "outputs": [],
   "source": [
    "import pathlib as pl"
   ],
   "metadata": {
    "collapsed": false,
    "ExecuteTime": {
     "end_time": "2024-04-08T08:15:08.577498Z",
     "start_time": "2024-04-08T08:15:08.565770Z"
    }
   },
   "id": "77e57358ad8a6520",
   "execution_count": 2
  },
  {
   "cell_type": "code",
   "outputs": [],
   "source": [
    "data_folder = pl.Path('data')"
   ],
   "metadata": {
    "collapsed": false,
    "ExecuteTime": {
     "end_time": "2024-04-08T08:15:21.445610Z",
     "start_time": "2024-04-08T08:15:21.441383Z"
    }
   },
   "id": "8c750b293625ec90",
   "execution_count": 3
  },
  {
   "cell_type": "code",
   "outputs": [],
   "source": [
    "df = pd.read_parquet(data_folder / 'yellow_tripdata_2024-01.parquet', columns=['tpep_pickup_datetime', 'tpep_dropoff_datetime', 'trip_distance'])"
   ],
   "metadata": {
    "collapsed": false,
    "ExecuteTime": {
     "end_time": "2024-04-08T08:48:52.749176Z",
     "start_time": "2024-04-08T08:48:52.670271Z"
    }
   },
   "id": "5b7827fb9b89be18",
   "execution_count": 23
  },
  {
   "cell_type": "code",
   "outputs": [
    {
     "data": {
      "text/plain": "  tpep_pickup_datetime tpep_dropoff_datetime  trip_distance\n0  2024-01-01 00:57:55   2024-01-01 01:17:43           1.72\n1  2024-01-01 00:03:00   2024-01-01 00:09:36           1.80\n2  2024-01-01 00:17:06   2024-01-01 00:35:01           4.70\n3  2024-01-01 00:36:38   2024-01-01 00:44:56           1.40\n4  2024-01-01 00:46:51   2024-01-01 00:52:57           0.80",
      "text/html": "<div>\n<style scoped>\n    .dataframe tbody tr th:only-of-type {\n        vertical-align: middle;\n    }\n\n    .dataframe tbody tr th {\n        vertical-align: top;\n    }\n\n    .dataframe thead th {\n        text-align: right;\n    }\n</style>\n<table border=\"1\" class=\"dataframe\">\n  <thead>\n    <tr style=\"text-align: right;\">\n      <th></th>\n      <th>tpep_pickup_datetime</th>\n      <th>tpep_dropoff_datetime</th>\n      <th>trip_distance</th>\n    </tr>\n  </thead>\n  <tbody>\n    <tr>\n      <th>0</th>\n      <td>2024-01-01 00:57:55</td>\n      <td>2024-01-01 01:17:43</td>\n      <td>1.72</td>\n    </tr>\n    <tr>\n      <th>1</th>\n      <td>2024-01-01 00:03:00</td>\n      <td>2024-01-01 00:09:36</td>\n      <td>1.80</td>\n    </tr>\n    <tr>\n      <th>2</th>\n      <td>2024-01-01 00:17:06</td>\n      <td>2024-01-01 00:35:01</td>\n      <td>4.70</td>\n    </tr>\n    <tr>\n      <th>3</th>\n      <td>2024-01-01 00:36:38</td>\n      <td>2024-01-01 00:44:56</td>\n      <td>1.40</td>\n    </tr>\n    <tr>\n      <th>4</th>\n      <td>2024-01-01 00:46:51</td>\n      <td>2024-01-01 00:52:57</td>\n      <td>0.80</td>\n    </tr>\n  </tbody>\n</table>\n</div>"
     },
     "execution_count": 10,
     "metadata": {},
     "output_type": "execute_result"
    }
   ],
   "source": [
    "df.head()"
   ],
   "metadata": {
    "collapsed": false,
    "ExecuteTime": {
     "end_time": "2024-04-08T08:28:27.280114Z",
     "start_time": "2024-04-08T08:28:27.262728Z"
    }
   },
   "id": "2b176716184a5873",
   "execution_count": 10
  },
  {
   "cell_type": "code",
   "outputs": [],
   "source": [
    "df['trip-length-time'] = df['tpep_dropoff_datetime'] - df['tpep_pickup_datetime']"
   ],
   "metadata": {
    "collapsed": false,
    "ExecuteTime": {
     "end_time": "2024-04-08T08:29:55.108578Z",
     "start_time": "2024-04-08T08:29:55.046333Z"
    }
   },
   "id": "2ed8cbdbc8d38c3e",
   "execution_count": 11
  },
  {
   "cell_type": "code",
   "outputs": [
    {
     "data": {
      "text/plain": "tpep_pickup_datetime      datetime64[us]\ntpep_dropoff_datetime     datetime64[us]\ntrip_distance                    float64\ntrip-length-time         timedelta64[us]\ndtype: object"
     },
     "execution_count": 13,
     "metadata": {},
     "output_type": "execute_result"
    }
   ],
   "source": [
    "df.dtypes"
   ],
   "metadata": {
    "collapsed": false,
    "ExecuteTime": {
     "end_time": "2024-04-08T08:30:58.544299Z",
     "start_time": "2024-04-08T08:30:58.534363Z"
    }
   },
   "id": "a11fd2d481debf2a",
   "execution_count": 13
  },
  {
   "cell_type": "code",
   "outputs": [
    {
     "data": {
      "text/plain": "  tpep_pickup_datetime tpep_dropoff_datetime  trip_distance trip-length-time\n0  2024-01-01 00:57:55   2024-01-01 01:17:43           1.72  0 days 00:19:48\n1  2024-01-01 00:03:00   2024-01-01 00:09:36           1.80  0 days 00:06:36\n2  2024-01-01 00:17:06   2024-01-01 00:35:01           4.70  0 days 00:17:55\n3  2024-01-01 00:36:38   2024-01-01 00:44:56           1.40  0 days 00:08:18\n4  2024-01-01 00:46:51   2024-01-01 00:52:57           0.80  0 days 00:06:06",
      "text/html": "<div>\n<style scoped>\n    .dataframe tbody tr th:only-of-type {\n        vertical-align: middle;\n    }\n\n    .dataframe tbody tr th {\n        vertical-align: top;\n    }\n\n    .dataframe thead th {\n        text-align: right;\n    }\n</style>\n<table border=\"1\" class=\"dataframe\">\n  <thead>\n    <tr style=\"text-align: right;\">\n      <th></th>\n      <th>tpep_pickup_datetime</th>\n      <th>tpep_dropoff_datetime</th>\n      <th>trip_distance</th>\n      <th>trip-length-time</th>\n    </tr>\n  </thead>\n  <tbody>\n    <tr>\n      <th>0</th>\n      <td>2024-01-01 00:57:55</td>\n      <td>2024-01-01 01:17:43</td>\n      <td>1.72</td>\n      <td>0 days 00:19:48</td>\n    </tr>\n    <tr>\n      <th>1</th>\n      <td>2024-01-01 00:03:00</td>\n      <td>2024-01-01 00:09:36</td>\n      <td>1.80</td>\n      <td>0 days 00:06:36</td>\n    </tr>\n    <tr>\n      <th>2</th>\n      <td>2024-01-01 00:17:06</td>\n      <td>2024-01-01 00:35:01</td>\n      <td>4.70</td>\n      <td>0 days 00:17:55</td>\n    </tr>\n    <tr>\n      <th>3</th>\n      <td>2024-01-01 00:36:38</td>\n      <td>2024-01-01 00:44:56</td>\n      <td>1.40</td>\n      <td>0 days 00:08:18</td>\n    </tr>\n    <tr>\n      <th>4</th>\n      <td>2024-01-01 00:46:51</td>\n      <td>2024-01-01 00:52:57</td>\n      <td>0.80</td>\n      <td>0 days 00:06:06</td>\n    </tr>\n  </tbody>\n</table>\n</div>"
     },
     "execution_count": 12,
     "metadata": {},
     "output_type": "execute_result"
    }
   ],
   "source": [
    "df.head()"
   ],
   "metadata": {
    "collapsed": false,
    "ExecuteTime": {
     "end_time": "2024-04-08T08:30:05.109280Z",
     "start_time": "2024-04-08T08:30:05.088558Z"
    }
   },
   "id": "21ce9429b9a36b36",
   "execution_count": 12
  },
  {
   "cell_type": "code",
   "outputs": [],
   "source": [
    "import pandas as pd\n",
    "import pathlib as pl\n",
    "\n",
    "# Load the existing data\n",
    "data_folder = pl.Path('data')\n",
    "df = pd.read_parquet(data_folder / 'yellow_tripdata_2024-01.parquet', columns=['tpep_pickup_datetime', 'tpep_dropoff_datetime', 'trip_distance'])\n",
    "\n",
    "# Load the new data\n",
    "new_data = pd.read_parquet(data_folder / 'yellow_tripdata_2023-12.parquet', columns=['tpep_pickup_datetime', 'tpep_dropoff_datetime', 'trip_distance'])"
   ],
   "metadata": {
    "collapsed": false,
    "ExecuteTime": {
     "end_time": "2024-04-08T09:01:10.889161Z",
     "start_time": "2024-04-08T09:01:10.746651Z"
    }
   },
   "id": "8ea603a69a6a569d",
   "execution_count": 38
  },
  {
   "cell_type": "code",
   "outputs": [
    {
     "data": {
      "text/plain": "tpep_pickup_datetime     0\ntpep_dropoff_datetime    0\ntrip_distance            0\ndtype: int64"
     },
     "execution_count": 33,
     "metadata": {},
     "output_type": "execute_result"
    }
   ],
   "source": [
    "df.isnull().sum(axis = 0)"
   ],
   "metadata": {
    "collapsed": false,
    "ExecuteTime": {
     "end_time": "2024-04-08T08:58:29.819429Z",
     "start_time": "2024-04-08T08:58:29.787308Z"
    }
   },
   "id": "70223d223fff3ba1",
   "execution_count": 33
  },
  {
   "cell_type": "code",
   "outputs": [],
   "source": [],
   "metadata": {
    "collapsed": false
   },
   "id": "cd6a0ee0c68bbbb5"
  },
  {
   "cell_type": "code",
   "outputs": [
    {
     "data": {
      "text/plain": "Timestamp('2024-02-01 00:01:15')"
     },
     "execution_count": 39,
     "metadata": {},
     "output_type": "execute_result"
    }
   ],
   "source": [
    "df['tpep_pickup_datetime'].max()"
   ],
   "metadata": {
    "collapsed": false,
    "ExecuteTime": {
     "end_time": "2024-04-08T09:01:21.516336Z",
     "start_time": "2024-04-08T09:01:21.494013Z"
    }
   },
   "id": "1f23e7546be56c25",
   "execution_count": 39
  },
  {
   "cell_type": "code",
   "outputs": [
    {
     "data": {
      "text/plain": "Timestamp('2002-12-31 22:59:39')"
     },
     "execution_count": 40,
     "metadata": {},
     "output_type": "execute_result"
    }
   ],
   "source": [
    "df['tpep_pickup_datetime'].min()"
   ],
   "metadata": {
    "collapsed": false,
    "ExecuteTime": {
     "end_time": "2024-04-08T09:01:38.075493Z",
     "start_time": "2024-04-08T09:01:38.062059Z"
    }
   },
   "id": "9af9d593474b572f",
   "execution_count": 40
  },
  {
   "cell_type": "code",
   "outputs": [
    {
     "data": {
      "text/plain": "        tpep_pickup_datetime tpep_dropoff_datetime  trip_distance\n53119    2002-12-31 22:59:39   2002-12-31 23:05:41           0.63\n53120    2002-12-31 22:59:39   2002-12-31 23:05:41           0.63\n2558056  2009-01-01 00:24:09   2009-01-01 01:13:00          10.88\n1230169  2009-01-01 23:30:39   2009-01-02 00:01:39          10.99\n10915    2009-01-01 23:58:40   2009-01-02 00:01:40           0.46\n369      2023-12-31 23:39:17   2023-12-31 23:42:00           0.47\n753      2023-12-31 23:41:02   2023-12-31 23:48:03           0.40\n3176     2023-12-31 23:47:28   2023-12-31 23:57:07           1.44\n2615     2023-12-31 23:56:45   2024-01-01 00:00:28           0.97\n2210     2023-12-31 23:57:17   2024-01-01 00:01:50           0.53",
      "text/html": "<div>\n<style scoped>\n    .dataframe tbody tr th:only-of-type {\n        vertical-align: middle;\n    }\n\n    .dataframe tbody tr th {\n        vertical-align: top;\n    }\n\n    .dataframe thead th {\n        text-align: right;\n    }\n</style>\n<table border=\"1\" class=\"dataframe\">\n  <thead>\n    <tr style=\"text-align: right;\">\n      <th></th>\n      <th>tpep_pickup_datetime</th>\n      <th>tpep_dropoff_datetime</th>\n      <th>trip_distance</th>\n    </tr>\n  </thead>\n  <tbody>\n    <tr>\n      <th>53119</th>\n      <td>2002-12-31 22:59:39</td>\n      <td>2002-12-31 23:05:41</td>\n      <td>0.63</td>\n    </tr>\n    <tr>\n      <th>53120</th>\n      <td>2002-12-31 22:59:39</td>\n      <td>2002-12-31 23:05:41</td>\n      <td>0.63</td>\n    </tr>\n    <tr>\n      <th>2558056</th>\n      <td>2009-01-01 00:24:09</td>\n      <td>2009-01-01 01:13:00</td>\n      <td>10.88</td>\n    </tr>\n    <tr>\n      <th>1230169</th>\n      <td>2009-01-01 23:30:39</td>\n      <td>2009-01-02 00:01:39</td>\n      <td>10.99</td>\n    </tr>\n    <tr>\n      <th>10915</th>\n      <td>2009-01-01 23:58:40</td>\n      <td>2009-01-02 00:01:40</td>\n      <td>0.46</td>\n    </tr>\n    <tr>\n      <th>369</th>\n      <td>2023-12-31 23:39:17</td>\n      <td>2023-12-31 23:42:00</td>\n      <td>0.47</td>\n    </tr>\n    <tr>\n      <th>753</th>\n      <td>2023-12-31 23:41:02</td>\n      <td>2023-12-31 23:48:03</td>\n      <td>0.40</td>\n    </tr>\n    <tr>\n      <th>3176</th>\n      <td>2023-12-31 23:47:28</td>\n      <td>2023-12-31 23:57:07</td>\n      <td>1.44</td>\n    </tr>\n    <tr>\n      <th>2615</th>\n      <td>2023-12-31 23:56:45</td>\n      <td>2024-01-01 00:00:28</td>\n      <td>0.97</td>\n    </tr>\n    <tr>\n      <th>2210</th>\n      <td>2023-12-31 23:57:17</td>\n      <td>2024-01-01 00:01:50</td>\n      <td>0.53</td>\n    </tr>\n  </tbody>\n</table>\n</div>"
     },
     "execution_count": 26,
     "metadata": {},
     "output_type": "execute_result"
    }
   ],
   "source": [
    "df.sort_values('tpep_dropoff_datetime').head(10)"
   ],
   "metadata": {
    "collapsed": false,
    "ExecuteTime": {
     "end_time": "2024-04-08T08:49:58.799889Z",
     "start_time": "2024-04-08T08:49:58.525135Z"
    }
   },
   "id": "4ce642716d369d8f",
   "execution_count": 26
  },
  {
   "cell_type": "code",
   "outputs": [
    {
     "name": "stdout",
     "output_type": "stream",
     "text": [
      "The 45-day rolling average trip length in time is:\n",
      "tpep_pickup_datetime\n",
      "2002-12-31 22:16:54    1005.233333\n",
      "2002-12-31 22:59:39     505.633333\n",
      "2002-12-31 22:59:39     339.100000\n",
      "2002-12-31 23:03:18     585.933333\n",
      "2009-01-01 00:02:41    1060.783333\n",
      "                          ...     \n",
      "2024-01-31 23:59:54      16.175183\n",
      "2024-01-31 23:59:55      16.175182\n",
      "2024-02-01 00:00:17      16.174709\n",
      "2024-02-01 00:00:39      16.174705\n",
      "2024-02-01 00:01:15      16.174717\n",
      "Name: trip_length_time, Length: 6341191, dtype: float64\n",
      "The 45-day rolling average trip length in distance is:\n",
      "tpep_pickup_datetime\n",
      "2002-12-31 22:16:54    3.250000\n",
      "2002-12-31 22:59:39    1.940000\n",
      "2002-12-31 22:59:39    1.503333\n",
      "2002-12-31 23:03:18    8.175000\n",
      "2009-01-01 00:02:41    1.370000\n",
      "                         ...   \n",
      "2024-01-31 23:59:54    3.670489\n",
      "2024-01-31 23:59:55    3.670488\n",
      "2024-02-01 00:00:17    3.670471\n",
      "2024-02-01 00:00:39    3.670462\n",
      "2024-02-01 00:01:15    3.670460\n",
      "Name: trip_length_distance, Length: 6341191, dtype: float64\n"
     ]
    }
   ],
   "source": [
    "# Append the new data to the existing DataFrame\n",
    "df = pd.concat([new_data, df])\n",
    "df['trip_length_time'] = df['tpep_dropoff_datetime'] - df['tpep_pickup_datetime']\n",
    "# Calculate the trip length for each trip\n",
    "df['trip_length_time'] = (df['tpep_dropoff_datetime'] - df['tpep_pickup_datetime']).dt.total_seconds() / 60  # in minutes\n",
    "df['trip_length_distance'] = df['trip_distance']  # in miles\n",
    "\n",
    "# Set the pickup datetime as the index for rolling calculation\n",
    "df.set_index('tpep_pickup_datetime', inplace=True)\n",
    "df = df.sort_index()\n",
    "\n",
    "# Calculate the rolling 45-day average trip length\n",
    "rolling_avg_time = df['trip_length_time'].rolling('45D').mean()\n",
    "rolling_avg_distance = df['trip_length_distance'].rolling('45D').mean()\n",
    "\n",
    "print(f\"The 45-day rolling average trip length in time is:\\n{rolling_avg_time}\")\n",
    "print(f\"The 45-day rolling average trip length in distance is:\\n{rolling_avg_distance}\")"
   ],
   "metadata": {
    "collapsed": false,
    "ExecuteTime": {
     "end_time": "2024-04-08T08:59:17.358258Z",
     "start_time": "2024-04-08T08:59:15.962257Z"
    }
   },
   "id": "df42b188bf89af94",
   "execution_count": 36
  },
  {
   "cell_type": "code",
   "outputs": [],
   "source": [],
   "metadata": {
    "collapsed": false
   },
   "id": "b1b45582e788f7ab"
  },
  {
   "cell_type": "code",
   "outputs": [],
   "source": [],
   "metadata": {
    "collapsed": false
   },
   "id": "d696d41beffadd70"
  }
 ],
 "metadata": {
  "kernelspec": {
   "display_name": "Python 3",
   "language": "python",
   "name": "python3"
  },
  "language_info": {
   "codemirror_mode": {
    "name": "ipython",
    "version": 2
   },
   "file_extension": ".py",
   "mimetype": "text/x-python",
   "name": "python",
   "nbconvert_exporter": "python",
   "pygments_lexer": "ipython2",
   "version": "2.7.6"
  }
 },
 "nbformat": 4,
 "nbformat_minor": 5
}
